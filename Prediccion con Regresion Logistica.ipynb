{
 "cells": [
  {
   "cell_type": "code",
   "execution_count": 1,
   "metadata": {},
   "outputs": [
    {
     "name": "stdout",
     "output_type": "stream",
     "text": [
      "sobre datos de entrenamiento: 0.87\n",
      "sobre datos de evaluación: 0.85\n"
     ]
    }
   ],
   "source": [
    "# Creando un dataset de ejemplo \n",
    "from sklearn.datasets import make_classification\n",
    "X, y = make_classification(n_samples=1000, n_features=4)\n",
    "\n",
    "# Importando el modelo\n",
    "from sklearn.linear_model import LogisticRegression\n",
    "\n",
    "rlog = LogisticRegression() # Creando el modelo\n",
    "\n",
    "# Dividiendo el dataset en entrenamiento y evaluacion\n",
    "X_entrenamiento = X[:-200]\n",
    "X_evaluacion = X[-200:]\n",
    "y_entrenamiento = y[:-200]\n",
    "y_evaluacion = y[-200:]\n",
    "\n",
    "rlog.fit(X_entrenamiento, y_entrenamiento) #ajustando el modelo\n",
    "\n",
    "# Realizando las predicciones\n",
    "y_predic_entrenamiento = rlog.predict(X_entrenamiento) \n",
    "y_predic_evaluacion = rlog.predict(X_evaluacion)\n",
    "\n",
    "# Verificando la exactitud del modelo\n",
    "entrenamiento = (y_predic_entrenamiento == y_entrenamiento).sum().astype(float) / y_entrenamiento.shape[0]\n",
    "print(\"sobre datos de entrenamiento: {0:.2f}\".format(entrenamiento))\n",
    "evaluacion = (y_predic_evaluacion == y_evaluacion).sum().astype(float) / y_evaluacion.shape[0]\n",
    "print(\"sobre datos de evaluación: {0:.2f}\".format(evaluacion))"
   ]
  },
  {
   "cell_type": "code",
   "execution_count": null,
   "metadata": {
    "collapsed": true
   },
   "outputs": [],
   "source": []
  }
 ],
 "metadata": {
  "kernelspec": {
   "display_name": "Python 3",
   "language": "python",
   "name": "python3"
  },
  "language_info": {
   "codemirror_mode": {
    "name": "ipython",
    "version": 3
   },
   "file_extension": ".py",
   "mimetype": "text/x-python",
   "name": "python",
   "nbconvert_exporter": "python",
   "pygments_lexer": "ipython3",
   "version": "3.6.2"
  }
 },
 "nbformat": 4,
 "nbformat_minor": 2
}
